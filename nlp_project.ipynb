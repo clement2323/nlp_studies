{
 "cells": [
  {
   "cell_type": "markdown",
   "metadata": {
    "colab_type": "text",
    "id": "fncTALAYiiOV"
   },
   "source": [
    "# Deep Learning for NLP - Project"
   ]
  },
  {
   "cell_type": "markdown",
   "metadata": {
    "colab_type": "text",
    "id": "XvkmPBqqiiOY"
   },
   "source": [
    "RULES:\n",
    "\n",
    "* Do not create any additional cell\n",
    "\n",
    "* Fill in the blanks\n",
    "\n",
    "* All cells should be runnable (modulo trivial compatibility bugs that we'd fix)\n",
    "\n",
    "* 4 / 20 points will be allocated to the clarity of your code\n",
    "\n",
    "* Efficient code will have a bonus\n",
    "\n",
    "DELIVERABLE:\n",
    "\n",
    "* the pdf with your answers\n",
    "* this notebook\n",
    "* the predictions of the SST test set\n",
    "\n",
    "DO NOT INCLUDE THE DATASETS IN THE DELIVERABLE.."
   ]
  },
  {
   "cell_type": "code",
   "execution_count": 3,
   "metadata": {
    "colab": {},
    "colab_type": "code",
    "id": "_gjoQcIRiiOa",
    "jupyter": {
     "outputs_hidden": false
    }
   },
   "outputs": [
    {
     "name": "stderr",
     "output_type": "stream",
     "text": [
      "/Users/clementguillo/opt/anaconda3/lib/python3.7/site-packages/sklearn/utils/deprecation.py:144: FutureWarning: The sklearn.utils.testing module is  deprecated in version 0.22 and will be removed in version 0.24. The corresponding classes / functions should instead be imported from sklearn.utils. Anything that cannot be imported from sklearn.utils is now part of the private API.\n",
      "  warnings.warn(message, FutureWarning)\n",
      "/Users/clementguillo/opt/anaconda3/lib/python3.7/site-packages/statsmodels/tools/_testing.py:19: FutureWarning: pandas.util.testing is deprecated. Use the functions in the public API at pandas.testing instead.\n",
      "  import pandas.util.testing as tm\n"
     ]
    }
   ],
   "source": [
    "# Python 3.6 or above is required\n",
    "from collections import defaultdict\n",
    "import gzip\n",
    "import numpy as np\n",
    "from pathlib import Path\n",
    "import urllib\n",
    "import progressbar\n",
    "import sklearn\n",
    "from sklearn import linear_model\n",
    "import matplotlib.pyplot as plt\n",
    "from sklearn.linear_model import LogisticRegression \n",
    "from sklearn.metrics import accuracy_score\n",
    "from sklearn.utils.testing import ignore_warnings\n",
    "from sklearn.exceptions import ConvergenceWarning\n",
    "from sklearn.ensemble import RandomForestClassifier\n",
    "from sklearn.svm import LinearSVC\n",
    "from sklearn.ensemble import  StackingClassifier\n",
    "import pandas as pd\n",
    "import seaborn as sns"
   ]
  },
  {
   "cell_type": "code",
   "execution_count": 11,
   "metadata": {
    "colab": {},
    "colab_type": "code",
    "id": "g03bLzQZiiOf"
   },
   "outputs": [],
   "source": [
    "PATH_TO_DATA = Path('../data/')\n",
    "#PATH_TO_DATA = Path('/content/')# for colab\n",
    "\n",
    "# Download word vectors, might take a few minutes and about ~3GB of storage space\n",
    "en_embeddings_path = PATH_TO_DATA / 'cc.en.300.vec.gz'\n",
    "\n",
    "if not en_embeddings_path.exists():\n",
    "    urllib.request.urlretrieve('https://dl.fbaipublicfiles.com/fasttext/vectors-crawl/cc.en.300.vec.gz', en_embeddings_path)\n",
    "\n",
    "fr_embeddings_path = PATH_TO_DATA / 'cc.fr.300.vec.gz'\n",
    "if not fr_embeddings_path.exists():\n",
    "    urllib.request.urlretrieve('https://dl.fbaipublicfiles.com/fasttext/vectors-crawl/cc.fr.300.vec.gz', fr_embeddings_path)"
   ]
  },
  {
   "cell_type": "markdown",
   "metadata": {
    "colab_type": "text",
    "id": "rPfEPow9iiOi"
   },
   "source": [
    "# 1) Monolingual (English) word embeddings "
   ]
  },
  {
   "cell_type": "code",
   "execution_count": 12,
   "metadata": {
    "colab": {},
    "colab_type": "code",
    "id": "Eb7ZScg1iiOj"
   },
   "outputs": [],
   "source": [
    "class Word2Vec():\n",
    "\n",
    "    def __init__(self, filepath, vocab_size=50000):\n",
    "        self.words, self.embeddings = self.load_wordvec(filepath, vocab_size)\n",
    "        # Mappings for O(1) retrieval:\n",
    "        self.word2id = {word: idx for idx, word in enumerate(self.words)}\n",
    "        self.id2word = {idx: word for idx, word in enumerate(self.words)}\n",
    "    \n",
    "    def load_wordvec(self, filepath, vocab_size):\n",
    "        assert str(filepath).endswith('.gz')\n",
    "        words = []\n",
    "        embeddings = []\n",
    "        with gzip.open(filepath, 'rt') as f:  # Read compressed file directly\n",
    "            next(f)  # Skip header\n",
    "            for i, line in enumerate(f):\n",
    "                word, vec = line.split(' ', 1)\n",
    "                words.append(word)\n",
    "                embeddings.append(np.fromstring(vec, sep=' '))\n",
    "                if i == (vocab_size - 1):\n",
    "                    break\n",
    "        print('Loaded %s pretrained word vectors' % (len(words)))\n",
    "        return words, np.vstack(embeddings)\n",
    "    \n",
    "    def encode(self, word):\n",
    "        if word in self.word2id.keys():\n",
    "            idi=self.word2id[word]\n",
    "            return(self.embeddings[idi])\n",
    "        else:\n",
    "            return(None)\n",
    "            \n",
    "    \n",
    "    def score(self, word1, word2):\n",
    "        e1=self.encode(word1)\n",
    "        e2=self.encode(word2)\n",
    "        return(np.dot(e1,e2)/(np.linalg.norm(e1)*np.linalg.norm(e2)))\n",
    "  \n",
    "    def most_similar(self, word, k=5):\n",
    "        scores=[]\n",
    "        for w in self.words:\n",
    "            scores.append(self.score(word,w))\n",
    "        return([self.words[i] for i in np.argsort(scores)[::-1][1:(k+1)]])\n",
    "\n",
    "        "
   ]
  },
  {
   "cell_type": "code",
   "execution_count": 13,
   "metadata": {
    "colab": {
     "base_uri": "https://localhost:8080/",
     "height": 258
    },
    "colab_type": "code",
    "id": "IVYq3-26iiOn",
    "jupyter": {
     "outputs_hidden": false
    },
    "outputId": "f3131a30-6fb4-4d35-9da0-a7d8e4c176e8"
   },
   "outputs": [
    {
     "name": "stdout",
     "output_type": "stream",
     "text": [
      "Loaded 50000 pretrained word vectors\n",
      "cat tree 0.26449754661654756\n",
      "cat dog 0.7078641298542564\n",
      "cat pet 0.6753313359976382\n",
      "Paris France 0.6892958925806543\n",
      "Paris Germany 0.4051242286737549\n",
      "Paris baguette 0.29399958277802224\n",
      "Paris donut -0.006588507552348003\n",
      "['cats', 'kitty', 'kitten', 'feline', 'dog', 'kitties', 'kittens', 'pet', 'Cat', 'puppy']\n",
      "['dogs', 'puppy', 'pup', 'canine', 'pet', 'doggie', 'cat', 'pooch', 'poodle', 'Dog']\n",
      "['dog', 'cats', 'puppies', 'Dogs', 'pets', 'canine', 'puppy', 'pup', 'pups', 'doggie']\n",
      "['France', 'Parisian', 'Marseille', 'Brussels', 'Strasbourg', 'Toulouse', 'paris', 'Lille', 'Nantes', 'Versailles']\n",
      "['Austria', 'Europe', 'Berlin', 'Hamburg', 'Bavaria', 'Munich', 'Stuttgart', 'Switzerland', 'germany', 'Leipzig']\n"
     ]
    }
   ],
   "source": [
    "word2vec = Word2Vec(en_embeddings_path, vocab_size=50000)\n",
    "\n",
    "# You will be evaluated on the output of the following:\n",
    "for word1, word2 in zip(('cat', 'cat', 'cat', 'Paris', 'Paris', 'Paris', 'Paris'), ('tree', 'dog', 'pet', 'France', 'Germany', 'baguette', 'donut')):\n",
    "    print(word1, word2, word2vec.score(word1, word2))\n",
    "for word in ['cat', 'dog', 'dogs', 'Paris', 'Germany']:\n",
    "    print(word2vec.most_similar(word,k=10))"
   ]
  },
  {
   "cell_type": "code",
   "execution_count": 16,
   "metadata": {
    "colab": {},
    "colab_type": "code",
    "id": "t0dZMbRDiiOu",
    "jupyter": {
     "outputs_hidden": false
    }
   },
   "outputs": [],
   "source": [
    "class BagOfWords():\n",
    "    \n",
    "    def __init__(self, word2vec):\n",
    "        self.word2vec = word2vec\n",
    "\n",
    "    def build_idf(self,sentences):\n",
    "        \"Words that appear only in a few documents contain more discriminative information\"\n",
    "        dic = {}\n",
    "        for st in sentences: \n",
    "            for word in set(st.split()):\n",
    "                if word in dic.keys():\n",
    "                    dic[word] += 1\n",
    "                else: \n",
    "                    dic[word] = 1\n",
    "                \n",
    "        N = len(sentences)\n",
    "        idf = {word:np.log(N/n_word) for (word,n_word) in progressbar.progressbar(dic.items())}\n",
    "        self.idf = idf\n",
    "        return idf\n",
    " \n",
    "    \n",
    "    def encode(self, sentence, idf=None):\n",
    "        # Takes a sentence as input, returns the sentence embedding\n",
    "        \n",
    "        words=sentence.split()\n",
    "        word_vectors=[self.word2vec.encode(word) for word in words]\n",
    "        word_vectors_filled = [word for word in word_vectors if word is not None] \n",
    "        if idf is None:\n",
    "            # mean of word vectors\n",
    "            return(np.mean(word_vectors_filled,axis=0))\n",
    "            \n",
    "        else:\n",
    "            # idf-weighted mean of word vectors\n",
    "            idf_used=[idf.get(words[i]) for  i in range(len(words)) if word_vectors[i] is not None]\n",
    "            idf_used=np.nan_to_num(np.array(idf_used,dtype=float),nan=1)\n",
    "           \n",
    "            return(np.average(word_vectors_filled,weights=idf_used,axis=0))\n",
    "            \n",
    "    def score(self, sentence1, sentence2, idf=None):\n",
    "        # cosine similarity: use np.dot & np.linalg.norm \n",
    "        e1=self.encode(sentence1,idf)\n",
    "        e2=self.encode(sentence2,idf)\n",
    "        return(np.dot(e1,e2)/(np.linalg.norm(e1)*np.linalg.norm(e2)))\n",
    "    \n",
    "    def most_similar(self, sentence, sentences, idf=None, k=5):\n",
    "        # Return most similar sentences\n",
    "        query = self.encode(sentence, idf)\n",
    "        keys = [self.encode(sentence, idf) for sentence in sentences]\n",
    "        scores=[]\n",
    "        for key in keys:\n",
    "            scores.append(np.dot(key,query)/(np.linalg.norm(key)*np.linalg.norm(query)))\n",
    "        return([sentences[i] for i in np.argsort(scores)[::-1][1:(k+1)]])\n",
    "    \n",
    "        "
   ]
  },
  {
   "cell_type": "code",
   "execution_count": 17,
   "metadata": {
    "colab": {
     "base_uri": "https://localhost:8080/",
     "height": 496
    },
    "colab_type": "code",
    "id": "JQ3q4hPmiiOx",
    "jupyter": {
     "outputs_hidden": false
    },
    "outputId": "366b4950-781b-47dd-afd6-f8f2ecb78cad"
   },
   "outputs": [
    {
     "name": "stdout",
     "output_type": "stream",
     "text": [
      "Loaded 50000 pretrained word vectors\n",
      "\n",
      "\tAverage of word embeddings\n",
      "sentence 1: 1 man singing and 1 man playing a saxophone in a concert . \n",
      "sentence 2: 10 people venture out to go crosscountry skiing . \n",
      "0.7065220648251475\n",
      "\n",
      "\tidf weighted average of word embeddings\n",
      "idf building\n"
     ]
    },
    {
     "name": "stderr",
     "output_type": "stream",
     "text": [
      "100% (19976 of 19976) |##################| Elapsed Time: 0:00:00 Time:  0:00:00\n"
     ]
    },
    {
     "name": "stdout",
     "output_type": "stream",
     "text": [
      "sentence 1: 1 man singing and 1 man playing a saxophone in a concert . \n",
      "sentence 2: 10 people venture out to go crosscountry skiing . \n",
      "0.6400799939346387\n",
      "start sentence : 1 smiling african american boy . \n",
      "search for similar sentences\n",
      "without idf\n",
      "1) 2 woman dancing while pointing . \n",
      "2) 5 women and 1 man are smiling for the camera . \n",
      "3) a small boy following 4 geese . \n",
      "4) 2 female babies eating chips . \n",
      "5) a young boy and 2 girls open christmas presents . \n",
      "with idf\n",
      "1) 1 man singing and 1 man playing a saxophone in a concert . \n",
      "2) two women and 1 man walking across the street . \n",
      "3) 3 males and 1 woman enjoying a sporting event \n",
      "4) 5 women and 1 man are smiling for the camera . \n",
      "5) 2 guys facing away from camera , 1 girl smiling at camera with blue shirt , 1 guy with a beverage with a jacket on . \n"
     ]
    }
   ],
   "source": [
    "word2vec = Word2Vec(en_embeddings_path, vocab_size=50000)\n",
    "sentence2vec = BagOfWords(word2vec)\n",
    "\n",
    "# Load sentences in \"PATH_TO_DATA/sentences.txt\"\n",
    "filepath = PATH_TO_DATA / 'sentences.txt'\n",
    "with open(filepath, 'r') as f:\n",
    "    sentences = [line.strip('\\n') for line in f]\n",
    "\n",
    "\n",
    "# You will be evaluated on the output of the following:\n",
    "\n",
    "sentence1 = sentences[7]\n",
    "sentence2 = sentences[13]\n",
    "\n",
    "#without idf\n",
    "print('\\n\\tAverage of word embeddings')\n",
    "print(\"sentence 1:\",sentence1)\n",
    "print(\"sentence 2:\",sentence2)\n",
    "print(sentence2vec.score(sentence1, sentence2))\n",
    "\n",
    "\n",
    "# with idf\n",
    "\n",
    "print('\\n\\tidf weighted average of word embeddings')\n",
    "print(\"idf building\")\n",
    "idf = sentence2vec.build_idf(sentences)\n",
    "\n",
    "print(\"sentence 1:\",sentence1)\n",
    "print(\"sentence 2:\",sentence2)\n",
    "print(sentence2vec.score(sentence1, sentence2, idf))\n",
    "\n",
    "\n",
    "#search of similar sentences\n",
    "\n",
    "sentence= sentences[10]\n",
    "\n",
    "print(\"start sentence :\",sentence)\n",
    "print(\"search for similar sentences\")\n",
    "\n",
    "# without idf\n",
    "print(\"without idf\")\n",
    "similar_sentences = sentence2vec.most_similar(sentence, sentences)  # BagOfWords-mean\n",
    "for i, sent in enumerate(similar_sentences):\n",
    "    print(str(i+1) + ')', sent)\n",
    "\n",
    "#with idf\n",
    "print(\"with idf\")\n",
    "similar_sentences = sentence2vec.most_similar(sentence, sentences, idf)  # BagOfWords-idf\n",
    "for i, sent in enumerate(similar_sentences):\n",
    "    print(str(i+1) + ')', sent)"
   ]
  },
  {
   "cell_type": "markdown",
   "metadata": {
    "colab_type": "text",
    "id": "vfzyO3eSiiO0"
   },
   "source": [
    "# 2) Multilingual (English-French) word embeddings"
   ]
  },
  {
   "cell_type": "markdown",
   "metadata": {
    "colab_type": "text",
    "id": "vSlKJt3giiO1"
   },
   "source": [
    "Let's consider a bilingual dictionary of size V_a (e.g French-English).\n",
    "\n",
    "Let's define **X** and **Y** the **French** and **English** matrices.\n",
    "\n",
    "They contain the embeddings associated to the words in the bilingual dictionary.\n",
    "\n",
    "We want to find a **mapping W** that will project the source word space (e.g French) to the target word space (e.g English).\n",
    "\n",
    "Procrustes : **W\\* = argmin || W.X - Y ||  s.t  W^T.W = Id**\n",
    "has a closed form solution:\n",
    "**W = U.V^T  where  U.Sig.V^T = SVD(Y.X^T)**\n",
    "\n",
    "In what follows, you are asked to: "
   ]
  },
  {
   "cell_type": "code",
   "execution_count": 7,
   "metadata": {
    "colab": {},
    "colab_type": "code",
    "id": "few_3Y2XiiO5"
   },
   "outputs": [],
   "source": [
    "class MultilingualWordAligner:\n",
    "    \n",
    "    def __init__(self, fr_word2vec, en_word2vec):\n",
    "        self.fr_word2vec = fr_word2vec\n",
    "        self.en_word2vec = en_word2vec\n",
    "        self.aligned_fr_embeddings = self.get_aligned_fr_embeddings()\n",
    "        \n",
    "    def get_aligned_fr_embeddings(self):\n",
    "        # 1 - Get words that appear in both vocabs (= identical character strings)\n",
    "        #     Use it to create the matrix X (emb_dim, vocab_size) and Y (emb_dim, vocab_size) (of embeddings for these words)\n",
    "        A=set(self.fr_word2vec.word2id)\n",
    "        B=set(self.en_word2vec.word2id)\n",
    "        list_anchor=A.intersection(B)\n",
    "        \n",
    "        X=np.array([self.fr_word2vec.encode(anchor) for anchor in list_anchor]).T\n",
    "        Y=np.array([self.en_word2vec.encode(anchor) for anchor in list_anchor]).T\n",
    "\n",
    "        assert X.shape[0] == 300 and Y.shape[0] == 300\n",
    "        \n",
    "        # 2 - Solve the Procrustes using the numpy package and: np.linalg.svd() and get the optimal W\n",
    "        #     Now self.fr_word2vec.embeddings * W.transpose() is in the same space as en_word2vec.embeddings\n",
    "        SVD=np.linalg.svd(np.dot(Y,X.T))\n",
    "        U=SVD[0]\n",
    "        V_T=SVD[2]\n",
    "        W=np.dot(U,V_T)\n",
    "        assert W.shape == (300, 300)\n",
    "        return np.matmul(fr_word2vec.embeddings, W.transpose())\n",
    "        \n",
    "    def get_closest_english_words(self, fr_word, k=3):\n",
    "        \n",
    "        fr_word_en_space=self.get_aligned_fr_embeddings()#fr word in en space\n",
    "        #encode french word in english space\n",
    "        \n",
    "        if fr_word in self.fr_word2vec.word2id.keys():\n",
    "            idi=self.fr_word2vec.word2id[fr_word]\n",
    "            e1=(fr_word_en_space[idi])\n",
    "        else:\n",
    "            e1=None # In e1 french word is encoded in english\n",
    "       \n",
    "    # 3 - Return the top k English nearest neighbors to the input French word\n",
    "        \n",
    "        scores=[]\n",
    "        for w in self.en_word2vec.words:\n",
    "            e2=self.en_word2vec.encode(w)\n",
    "            scores.append(np.dot(e1,e2)/(np.linalg.norm(e1)*np.linalg.norm(e2)))\n",
    "        \n",
    "        return([self.en_word2vec.words[i] for i in np.argsort(scores)[::-1][0:k]])\n",
    "\n",
    "\n",
    "       "
   ]
  },
  {
   "cell_type": "code",
   "execution_count": 18,
   "metadata": {
    "colab": {
     "base_uri": "https://localhost:8080/",
     "height": 646
    },
    "colab_type": "code",
    "id": "NS7SeNI6iiO7",
    "outputId": "64b495fa-8e6e-4271-f3b1-857dfc0eb6f3"
   },
   "outputs": [
    {
     "name": "stdout",
     "output_type": "stream",
     "text": [
      "Loaded 50000 pretrained word vectors\n",
      "Loaded 50000 pretrained word vectors\n"
     ]
    },
    {
     "ename": "NameError",
     "evalue": "name 'MultilingualWordAligner' is not defined",
     "output_type": "error",
     "traceback": [
      "\u001b[0;31m---------------------------------------------------------------------------\u001b[0m",
      "\u001b[0;31mNameError\u001b[0m                                 Traceback (most recent call last)",
      "\u001b[0;32m<ipython-input-18-a157a4be8149>\u001b[0m in \u001b[0;36m<module>\u001b[0;34m\u001b[0m\n\u001b[1;32m      1\u001b[0m \u001b[0mfr_word2vec\u001b[0m \u001b[0;34m=\u001b[0m \u001b[0mWord2Vec\u001b[0m\u001b[0;34m(\u001b[0m\u001b[0mfr_embeddings_path\u001b[0m\u001b[0;34m,\u001b[0m \u001b[0mvocab_size\u001b[0m\u001b[0;34m=\u001b[0m\u001b[0;36m50000\u001b[0m\u001b[0;34m)\u001b[0m\u001b[0;34m\u001b[0m\u001b[0;34m\u001b[0m\u001b[0m\n\u001b[1;32m      2\u001b[0m \u001b[0men_word2vec\u001b[0m \u001b[0;34m=\u001b[0m \u001b[0mWord2Vec\u001b[0m\u001b[0;34m(\u001b[0m\u001b[0men_embeddings_path\u001b[0m\u001b[0;34m,\u001b[0m \u001b[0mvocab_size\u001b[0m\u001b[0;34m=\u001b[0m\u001b[0;36m50000\u001b[0m\u001b[0;34m)\u001b[0m\u001b[0;34m\u001b[0m\u001b[0;34m\u001b[0m\u001b[0m\n\u001b[0;32m----> 3\u001b[0;31m \u001b[0mmultilingual_word_aligner\u001b[0m \u001b[0;34m=\u001b[0m \u001b[0mMultilingualWordAligner\u001b[0m\u001b[0;34m(\u001b[0m\u001b[0mfr_word2vec\u001b[0m\u001b[0;34m,\u001b[0m \u001b[0men_word2vec\u001b[0m\u001b[0;34m)\u001b[0m\u001b[0;34m\u001b[0m\u001b[0;34m\u001b[0m\u001b[0m\n\u001b[0m\u001b[1;32m      4\u001b[0m \u001b[0;34m\u001b[0m\u001b[0m\n\u001b[1;32m      5\u001b[0m \u001b[0;31m# You will be evaluated on the output of the following:\u001b[0m\u001b[0;34m\u001b[0m\u001b[0;34m\u001b[0m\u001b[0;34m\u001b[0m\u001b[0m\n",
      "\u001b[0;31mNameError\u001b[0m: name 'MultilingualWordAligner' is not defined"
     ]
    }
   ],
   "source": [
    "fr_word2vec = Word2Vec(fr_embeddings_path, vocab_size=50000)\n",
    "en_word2vec = Word2Vec(en_embeddings_path, vocab_size=50000)\n",
    "multilingual_word_aligner = MultilingualWordAligner(fr_word2vec, en_word2vec)\n",
    "\n",
    "# You will be evaluated on the output of the following:\n",
    "fr_words = ['chat', 'chien', 'voiture', 'zut','amour','gloire','france']\n",
    "k = 3\n",
    "for fr_word in fr_words:\n",
    "    print('-' * 10)\n",
    "    print(f'fr: \"{fr_word}\"')\n",
    "    en_words = multilingual_word_aligner.get_closest_english_words(fr_word, k=3)\n",
    "    for en_word in en_words:\n",
    "        print(f'en: \"{en_word}\"')"
   ]
  },
  {
   "cell_type": "markdown",
   "metadata": {
    "colab_type": "text",
    "id": "oZksF9iliiO-"
   },
   "source": [
    "If you want to dive deeper on this subject: https://github.com/facebookresearch/MUSE"
   ]
  },
  {
   "cell_type": "markdown",
   "metadata": {
    "colab_type": "text",
    "id": "P88DMZRpiiO_"
   },
   "source": [
    "# 3) Sentence classification with BoV and scikit-learn"
   ]
  },
  {
   "cell_type": "code",
   "execution_count": 20,
   "metadata": {
    "colab": {},
    "colab_type": "code",
    "id": "SuNZC7hyiiPA"
   },
   "outputs": [],
   "source": [
    "# 1 - Load train/dev/test of Stanford Sentiment TreeBank (SST)\n",
    "#     (https://nlp.stanford.edu/~socherr/EMNLP2013_RNTN.pdf)\n",
    "train_filepath = PATH_TO_DATA / 'SST/stsa.fine.train'\n",
    "dev_filepath = PATH_TO_DATA / 'SST/stsa.fine.dev'\n",
    "test_filepath = PATH_TO_DATA / 'SST/stsa.fine.test.X'\n",
    "\n",
    "y_train=[]\n",
    "x_train=[]\n",
    "with open(train_filepath, 'r') as f:\n",
    "    for line in f:\n",
    "        y, x = line.split(' ', 1)\n",
    "        y_train.append(y)\n",
    "        x_train.append(x.strip('\\n'))\n",
    "\n",
    "y_dev=[]\n",
    "x_dev=[]\n",
    "with open(dev_filepath, 'r') as f:\n",
    "    for line in f:\n",
    "        y, x = line.split(' ', 1)\n",
    "        y_dev.append(y)\n",
    "        x_dev.append(x.strip('\\n'))\n",
    "\n",
    "x_test=[]\n",
    "with open(test_filepath, 'r') as f:\n",
    "    for line in f:\n",
    "        x_test.append(line.strip('\\n'))\n"
   ]
  },
  {
   "cell_type": "code",
   "execution_count": 21,
   "metadata": {
    "colab": {
     "base_uri": "https://localhost:8080/",
     "height": 51
    },
    "colab_type": "code",
    "id": "xBVqJTFXiiPB",
    "outputId": "88b8d001-1590-463c-d3e8-b6f09f37a13e"
   },
   "outputs": [
    {
     "name": "stdout",
     "output_type": "stream",
     "text": [
      "Loaded 50000 pretrained word vectors\n"
     ]
    },
    {
     "name": "stderr",
     "output_type": "stream",
     "text": [
      "100% (16579 of 16579) |##################| Elapsed Time: 0:00:00 Time:  0:00:00\n"
     ]
    }
   ],
   "source": [
    "# 2 - Encode sentences with the BoV model above\n",
    "n_train=len(x_train)\n",
    "n_dev=len(x_dev)\n",
    "n_test=len(x_test)\n",
    "word2vec = Word2Vec(en_embeddings_path, vocab_size=50000)\n",
    "sentence2vec = BagOfWords(word2vec)\n",
    "\n",
    "x_encode_train=np.zeros((n_train,300))\n",
    "x_encode_dev=np.zeros((n_dev,300))\n",
    "x_encode_test=np.zeros((n_test,300))\n",
    "\n",
    "\n",
    "x_encode_train_idf=np.zeros((n_train,300))\n",
    "x_encode_dev_idf=np.zeros((n_dev,300))\n",
    "x_encode_test_idf=np.zeros((n_test,300))\n",
    "\n",
    "idf = sentence2vec.build_idf(x_train) #idf only build on x_train\n",
    "\n",
    "for i in range(n_train):\n",
    "    x_encode_train[i,]= sentence2vec.encode(x_train[i])\n",
    "    x_encode_train_idf[i,]= sentence2vec.encode(x_train[i],idf=idf)\n",
    "for i in range(n_dev):\n",
    "    x_encode_dev[i,]= sentence2vec.encode(x_dev[i])\n",
    "    x_encode_dev_idf[i,]= sentence2vec.encode(x_dev[i],idf=idf)\n",
    "for i in range(n_test):\n",
    "    x_encode_test[i,]= sentence2vec.encode(x_test[i])\n",
    "    x_encode_test_idf[i,]= sentence2vec.encode(x_test[i],idf=idf)\n",
    "    "
   ]
  },
  {
   "cell_type": "code",
   "execution_count": 22,
   "metadata": {
    "colab": {
     "base_uri": "https://localhost:8080/",
     "height": 298
    },
    "colab_type": "code",
    "id": "L-4nIxGSiiPQ",
    "outputId": "1dc84ee6-2ddf-428b-9b15-dd54e2f4f53a"
   },
   "outputs": [
    {
     "data": {
      "image/png": "[encoded data removed]",
      "text/plain": [
       "<Figure size 432x288 with 2 Axes>"
      ]
     },
     "metadata": {
      "needs_background": "light"
     },
     "output_type": "display_data"
    },
    {
     "name": "stdout",
     "output_type": "stream",
     "text": [
      "without_idf: 0.4150772025431426 with_idf: 0.41326067211625794\n"
     ]
    }
   ],
   "source": [
    "# 3 - Learn Logistic Regression on top of sentence embeddings using scikit-learn\n",
    "#     (consider tuning the L2 regularization on the dev set)\n",
    "#     In the paper, the accuracy for average of word vectors is 32.7%\n",
    "#     (VecAvg, table 1, https://nlp.stanford.edu/~socherr/EMNLP2013_RNTN.pdf)\n",
    "@ignore_warnings(category=ConvergenceWarning)\n",
    "def logreg():\n",
    "    list_score_train=[]\n",
    "    list_score_dev=[]\n",
    "    \n",
    "    #In order to find the good  regularization parameter \n",
    "    for i in range(-5,5): \n",
    "        LogReg=LogisticRegression(C=10**i, solver='lbfgs', max_iter=1000, multi_class=\"auto\",random_state=0)\n",
    "        LogReg.fit(x_encode_train,y_train)\n",
    "        list_score_train.append(LogReg.score(x_encode_train,y_train))    \n",
    "        list_score_dev.append(LogReg.score(x_encode_dev,y_dev))\n",
    "\n",
    "    list_score_train_idf=[]\n",
    "    list_score_dev_idf=[]\n",
    "    for i in range(-5,5): \n",
    "        LogReg=LogisticRegression(C=10**i, solver='lbfgs', max_iter=1000, multi_class=\"auto\",random_state=0)\n",
    "        LogReg.fit(x_encode_train_idf,y_train)\n",
    "        list_score_train_idf.append(LogReg.score(x_encode_train_idf,y_train))\n",
    "        list_score_dev_idf.append(LogReg.score(x_encode_dev_idf,y_dev))\n",
    "\n",
    "    plt.subplot(1,2,1)\n",
    "    plt.title(\"without idf\")\n",
    "    a,=plt.plot(range(-5,5),list_score_train,label=\"train\")\n",
    "    b,=plt.plot(range(-5,5),list_score_dev,label=\"dev\")\n",
    "    plt.legend(handles=[a,b])\n",
    "    \n",
    "   \n",
    "    plt.subplot(1,2,2)\n",
    "    plt.title(\"with idf\")\n",
    "    c,=plt.plot(range(-5,5),list_score_train_idf,label=\"train\")\n",
    "    d,=plt.plot(range(-5,5),list_score_dev_idf,label=\"dev\")\n",
    "    plt.legend(handles=[c,d])\n",
    "    \n",
    "    plt.show()\n",
    "\n",
    "logreg()\n",
    "\n",
    "#finally\n",
    "\n",
    "#Erase\n",
    "LogReg=LogisticRegression(C=10, solver='lbfgs', max_iter=1000, multi_class=\"auto\",random_state=0)\n",
    "LogReg.fit(x_encode_train,y_train)\n",
    "  \n",
    "LogReg_idf=LogisticRegression(C=10, solver='lbfgs', max_iter=1000, multi_class=\"auto\",random_state=0)\n",
    "LogReg_idf.fit(x_encode_train_idf,y_train)\n",
    "\n",
    "print(\"without_idf:\",LogReg.score(x_encode_dev,y_dev),\"with_idf:\",LogReg_idf.score(x_encode_dev_idf,y_dev))\n",
    "\n",
    "#adding idf does not improve the results"
   ]
  },
  {
   "cell_type": "code",
   "execution_count": 32,
   "metadata": {
    "colab": {},
    "colab_type": "code",
    "id": "iYO0RzlPiiPS"
   },
   "outputs": [],
   "source": [
    "# 4 - Produce 2210 predictions for the test set (in the same order). One line = one prediction (=0,1,2,3,4).\n",
    "#     Attach the output file \"logreg_bov_y_test_sst.txt\" to your deliverable.\n",
    "#     You will be evaluated on the results of the test set.\n",
    "\n",
    "LogReg_final=LogisticRegression(C=10, solver='lbfgs', max_iter=1000, multi_class=\"auto\",random_state=0)\n",
    "LogReg_final.fit(x_encode_train,y_train)\n",
    "\n",
    "y_test_pred= LogReg_final.predict(x_encode_test)\n",
    "with open(\"logreg_bow_y_test_sst.txt\",'w') as f: \n",
    "    for pred in y_test_pred:\n",
    "        f.write(str(pred)+'\\n')\n"
   ]
  },
  {
   "cell_type": "code",
   "execution_count": 33,
   "metadata": {
    "colab": {
     "base_uri": "https://localhost:8080/",
     "height": 641
    },
    "colab_type": "code",
    "id": "2gqaPZQTyyP5",
    "outputId": "188e8cb7-4ef4-4d26-e368-26e54905a7fe"
   },
   "outputs": [
    {
     "name": "stderr",
     "output_type": "stream",
     "text": [
      "/Users/clementguillo/opt/anaconda3/lib/python3.7/site-packages/sklearn/svm/_base.py:947: ConvergenceWarning: Liblinear failed to converge, increase the number of iterations.\n",
      "  \"the number of iterations.\", ConvergenceWarning)\n",
      "/Users/clementguillo/opt/anaconda3/lib/python3.7/site-packages/sklearn/svm/_base.py:947: ConvergenceWarning: Liblinear failed to converge, increase the number of iterations.\n",
      "  \"the number of iterations.\", ConvergenceWarning)\n",
      "/Users/clementguillo/opt/anaconda3/lib/python3.7/site-packages/sklearn/svm/_base.py:947: ConvergenceWarning: Liblinear failed to converge, increase the number of iterations.\n",
      "  \"the number of iterations.\", ConvergenceWarning)\n",
      "/Users/clementguillo/opt/anaconda3/lib/python3.7/site-packages/sklearn/svm/_base.py:947: ConvergenceWarning: Liblinear failed to converge, increase the number of iterations.\n",
      "  \"the number of iterations.\", ConvergenceWarning)\n"
     ]
    },
    {
     "data": {
      "image/png": "[encoded data removed]",
      "text/plain": [
       "<Figure size 432x288 with 1 Axes>"
      ]
     },
     "metadata": {
      "needs_background": "light"
     },
     "output_type": "display_data"
    },
    {
     "name": "stdout",
     "output_type": "stream",
     "text": [
      "logistic regression:  0.4150772025431426\n",
      "Linear SVM:  0.3832879200726612\n",
      "Random Forest:  0.34150772025431425\n",
      "stacking:  0.4032697547683924\n"
     ]
    },
    {
     "name": "stderr",
     "output_type": "stream",
     "text": [
      "/Users/clementguillo/opt/anaconda3/lib/python3.7/site-packages/sklearn/linear_model/_logistic.py:940: ConvergenceWarning: lbfgs failed to converge (status=1):\n",
      "STOP: TOTAL NO. of ITERATIONS REACHED LIMIT.\n",
      "\n",
      "Increase the number of iterations (max_iter) or scale the data as shown in:\n",
      "    https://scikit-learn.org/stable/modules/preprocessing.html\n",
      "Please also refer to the documentation for alternative solver options:\n",
      "    https://scikit-learn.org/stable/modules/linear_model.html#logistic-regression\n",
      "  extra_warning_msg=_LOGISTIC_SOLVER_CONVERGENCE_MSG)\n"
     ]
    }
   ],
   "source": [
    "# BONUS! \n",
    "# 5 - Try to improve performance with another classifier\n",
    "#     Attach the output file \"XXX_bov_y_test_sst.txt\" to your deliverable (where XXX = the name of the classifier)\n",
    "\n",
    "def model_svm():\n",
    "    list_score_train=[]\n",
    "    list_score_dev=[]\n",
    "    for i in range(-5,5): \n",
    "        #print(i)\n",
    "        SVM=LinearSVC(C=10**i,max_iter=2000)\n",
    "        SVM.fit(x_encode_train_idf,y_train)\n",
    "        list_score_dev.append(SVM.score(x_encode_dev,y_dev))\n",
    "        list_score_train.append(SVM.score(x_encode_train,y_train))\n",
    "\n",
    "    plt.title(\"SVM\")\n",
    "    a,=plt.plot(range(-5,5),list_score_train,label=\"train\")\n",
    "    b,=plt.plot(range(-5,5),list_score_dev,label=\"dev\")\n",
    "    plt.legend(handles=[a,b])\n",
    "    plt.show()\n",
    "\n",
    "\n",
    "model_svm()\n",
    "SVM_final= LinearSVC(C=10**(-1),max_iter=2000)\n",
    "SVM_final.fit(x_encode_train_idf,y_train)\n",
    "\n",
    "RF_final=RandomForestClassifier()\n",
    "RF_final.fit(x_encode_train_idf,y_train)\n",
    "\n",
    "\n",
    "\n",
    "models = [\n",
    "                ('cl1',LogisticRegression(C=10, solver='lbfgs', max_iter=1000, multi_class=\"auto\",random_state=0)),\n",
    "                ('cl2',RandomForestClassifier()),\n",
    "                ('cl3',LinearSVC(C=10**(-1),max_iter=2000))\n",
    "                ]\n",
    "\n",
    "stack = StackingClassifier(estimators=models, final_estimator=LogisticRegression())\n",
    "stack.fit(x_encode_train, y_train)\n",
    "\n",
    "print(\"logistic regression: \",LogReg_final.score(x_encode_dev,y_dev))\n",
    "print(\"Linear SVM: \",SVM_final.score(x_encode_dev,y_dev))\n",
    "print(\"Random Forest: \",RF_final.score(x_encode_dev,y_dev))\n",
    "print(\"stacking: \",stack.score(x_encode_dev, y_dev))\n",
    "\n",
    "\n",
    "y_test_pred= stack.predict(x_encode_test)\n",
    "with open(\"stack_bow_y_test_sst.txt\",'w') as f: \n",
    "    for pred in y_test_pred:\n",
    "        f.write(str(pred)+'\\n')\n",
    "\n"
   ]
  },
  {
   "cell_type": "markdown",
   "metadata": {
    "colab_type": "text",
    "id": "3x0AneHZiiPV"
   },
   "source": [
    "# 4) Sentence classification with LSTMs in Keras"
   ]
  },
  {
   "cell_type": "markdown",
   "metadata": {
    "colab_type": "text",
    "id": "teWqZ2NbiiPV"
   },
   "source": [
    "## 4.1 - Preprocessing"
   ]
  },
  {
   "cell_type": "code",
   "execution_count": 34,
   "metadata": {
    "colab": {
     "base_uri": "https://localhost:8080/",
     "height": 80
    },
    "colab_type": "code",
    "id": "ll8t64GuiiPW",
    "jupyter": {
     "outputs_hidden": false
    },
    "outputId": "380e7593-3992-492e-e384-5163f00e7540"
   },
   "outputs": [],
   "source": [
    "import tensorflow as tf"
   ]
  },
  {
   "cell_type": "code",
   "execution_count": 35,
   "metadata": {
    "colab": {
     "base_uri": "https://localhost:8080/",
     "height": 34
    },
    "colab_type": "code",
    "id": "A9udxoJ8iiPX",
    "outputId": "68aec710-dd2d-4aad-ffd0-deca7647b703"
   },
   "outputs": [],
   "source": [
    "# 1 - Using the same dataset, transform text to integers using tf.keras.preprocessing.text.one_hot function\n",
    "#     https://keras.io/preprocessing/text/\n",
    "from keras.utils import to_categorical\n",
    "\n",
    "x_train_tf=[tf.keras.preprocessing.text.one_hot(x,n=50000) for x in x_train]\n",
    "x_dev_tf=[tf.keras.preprocessing.text.one_hot(x,n=50000) for x in x_dev]\n",
    "x_test_tf=[tf.keras.preprocessing.text.one_hot(x,n=50000) for x in x_test]\n",
    "\n",
    "y_train_tf=to_categorical(y_train)\n",
    "y_dev_tf=to_categorical(y_dev)\n",
    "\n",
    "# Calcul opf the maxlen for padding\n",
    "maxlen=np.max([np.max([len(x) for x in x_train_tf]),\n",
    "np.max([len(x) for x in x_test_tf]),\n",
    "np.max([len(x) for x in x_dev_tf])\n",
    "              ])\n"
   ]
  },
  {
   "cell_type": "markdown",
   "metadata": {
    "colab_type": "text",
    "id": "Lrl17fqFiiPZ"
   },
   "source": [
    "**Padding input data**\n",
    "\n",
    "Models in Keras (and elsewhere) take batches of sentences of the same length as input. It is because Deep Learning framework have been designed to handle well Tensors, which are particularly suited for fast computation on the GPU.\n",
    "\n",
    "Since sentences have different sizes, we \"pad\" them. That is, we add dummy \"padding\" tokens so that they all have the same length.\n",
    "\n",
    "The input to a Keras model thus has this size : (batchsize, maxseqlen) where maxseqlen is the maximum length of a sentence in the batch."
   ]
  },
  {
   "cell_type": "code",
   "execution_count": 36,
   "metadata": {
    "colab": {},
    "colab_type": "code",
    "id": "UFxmd1mKiiPa"
   },
   "outputs": [],
   "source": [
    "# 2 - Pad your sequences using tf.keras.preprocessing.sequence.pad_sequences\n",
    "#     https://keras.io/preprocessing/sequence/\n",
    "\n",
    "x_train_tf=tf.keras.preprocessing.sequence.pad_sequences(x_train_tf,maxlen=maxlen,value=0.0)\n",
    "x_dev_tf=tf.keras.preprocessing.sequence.pad_sequences(x_dev_tf,maxlen=maxlen,value=0.0)\n",
    "x_test_tf=tf.keras.preprocessing.sequence.pad_sequences(x_test_tf,maxlen=maxlen,value=0.0)"
   ]
  },
  {
   "cell_type": "markdown",
   "metadata": {
    "colab_type": "text",
    "id": "-l7kX6dq7hud"
   },
   "source": []
  },
  {
   "cell_type": "markdown",
   "metadata": {
    "colab_type": "text",
    "id": "qn-HetW6iiPb"
   },
   "source": [
    "## 4.2 - Design and train your model"
   ]
  },
  {
   "cell_type": "code",
   "execution_count": 48,
   "metadata": {
    "colab": {},
    "colab_type": "code",
    "id": "fxG0_nbviiPc"
   },
   "outputs": [],
   "source": [
    "# 3 - Design your encoder + classifier using tensorflow.keras.layers\n",
    "#     In Keras, Torch and other deep learning framework, we create a \"container\" which is the Sequential() module.\n",
    "#     Then we add components to this container : the lookup-table, the LSTM, the classifier etc.\n",
    "#     All of these components are contained in the Sequential() and are trained together.\n",
    "#     Note that the embedding layer is initialized randomly and does not take advantage of pre-trained word embeddings.\n",
    "\n",
    "from tensorflow.keras.models import Sequential\n",
    "from tensorflow.keras.layers import Embedding, LSTM, Dense, Activation\n",
    "\n",
    "embed_dim  = 32  # word embedding dimension\n",
    "nhid       = 64  # number of hidden units in the LSTM\n",
    "vocab_size = 50000  # size of the vocabulary\n",
    "n_classes  = 5\n",
    "\n",
    "model = Sequential()\n",
    "model.add(Embedding(vocab_size, embed_dim))\n",
    "model.add(LSTM(nhid, dropout=0.2, recurrent_dropout=0.2))\n",
    "model.add(Dense(n_classes, activation='sigmoid'))\n"
   ]
  },
  {
   "cell_type": "code",
   "execution_count": 49,
   "metadata": {
    "colab": {
     "base_uri": "https://localhost:8080/",
     "height": 272
    },
    "colab_type": "code",
    "id": "Iz1ZvoONiiPd",
    "jupyter": {
     "outputs_hidden": false
    },
    "outputId": "cfbc2331-5990-4267-a844-b92897b56fd7"
   },
   "outputs": [
    {
     "name": "stdout",
     "output_type": "stream",
     "text": [
      "Model: \"sequential_11\"\n",
      "_________________________________________________________________\n",
      "Layer (type)                 Output Shape              Param #   \n",
      "=================================================================\n",
      "embedding_11 (Embedding)     (None, None, 32)          1600000   \n",
      "_________________________________________________________________\n",
      "lstm_11 (LSTM)               (None, 64)                24832     \n",
      "_________________________________________________________________\n",
      "dense_11 (Dense)             (None, 5)                 325       \n",
      "=================================================================\n",
      "Total params: 1,625,157\n",
      "Trainable params: 1,625,157\n",
      "Non-trainable params: 0\n",
      "_________________________________________________________________\n",
      "None\n"
     ]
    }
   ],
   "source": [
    "# 4 - Define your loss/optimizer/metrics\n",
    "\n",
    "loss_classif     =  'categorical_crossentropy' # find the right loss for multi-class classification\n",
    "optimizer        =  'adam' # find the right optimizer\n",
    "metrics_classif  =  ['accuracy']\n",
    "\n",
    "# Observe how easy (but blackboxed) this is in Keras\n",
    "model.compile(loss=loss_classif,\n",
    "              optimizer=optimizer,\n",
    "              metrics=metrics_classif)\n",
    "print(model.summary())"
   ]
  },
  {
   "cell_type": "code",
   "execution_count": 50,
   "metadata": {
    "colab": {
     "base_uri": "https://localhost:8080/",
     "height": 1000
    },
    "colab_type": "code",
    "id": "xJH5veabiiPe",
    "outputId": "864d986b-2a52-42e2-d70b-9803d164d9a5"
   },
   "outputs": [
    {
     "name": "stdout",
     "output_type": "stream",
     "text": [
      "WARNING:tensorflow:The `nb_epoch` argument in `fit` has been renamed `epochs`.\n",
      "Train on 8544 samples, validate on 1101 samples\n",
      "Epoch 1/60\n",
      "8544/8544 [==============================] - 5s 610us/sample - loss: 1.5831 - accuracy: 0.2704 - val_loss: 1.5727 - val_accuracy: 0.2534\n",
      "Epoch 2/60\n",
      "8544/8544 [==============================] - 4s 415us/sample - loss: 1.5624 - accuracy: 0.2860 - val_loss: 1.5617 - val_accuracy: 0.2598\n",
      "Epoch 3/60\n",
      "8544/8544 [==============================] - 4s 423us/sample - loss: 1.5035 - accuracy: 0.3450 - val_loss: 1.4715 - val_accuracy: 0.3497\n",
      "Epoch 4/60\n",
      "8544/8544 [==============================] - 4s 442us/sample - loss: 1.3317 - accuracy: 0.4151 - val_loss: 1.3731 - val_accuracy: 0.3787\n",
      "Epoch 5/60\n",
      "8544/8544 [==============================] - 4s 442us/sample - loss: 1.1666 - accuracy: 0.4614 - val_loss: 1.3844 - val_accuracy: 0.3824\n",
      "Epoch 6/60\n",
      "8544/8544 [==============================] - 4s 432us/sample - loss: 1.0433 - accuracy: 0.4963 - val_loss: 1.4586 - val_accuracy: 0.3760\n",
      "Epoch 7/60\n",
      "8544/8544 [==============================] - 4s 442us/sample - loss: 0.9466 - accuracy: 0.5217 - val_loss: 1.5278 - val_accuracy: 0.3860\n",
      "Epoch 8/60\n",
      "8544/8544 [==============================] - 4s 465us/sample - loss: 0.8423 - accuracy: 0.5679 - val_loss: 1.5556 - val_accuracy: 0.3778\n",
      "Epoch 9/60\n",
      "8544/8544 [==============================] - 4s 444us/sample - loss: 0.7467 - accuracy: 0.6276 - val_loss: 1.7260 - val_accuracy: 0.3815\n",
      "Epoch 10/60\n",
      "8544/8544 [==============================] - 4s 437us/sample - loss: 0.6535 - accuracy: 0.6712 - val_loss: 1.8755 - val_accuracy: 0.3724\n",
      "Epoch 11/60\n",
      "8544/8544 [==============================] - 4s 437us/sample - loss: 0.5802 - accuracy: 0.7330 - val_loss: 1.9569 - val_accuracy: 0.3724\n",
      "Epoch 12/60\n",
      "8544/8544 [==============================] - 4s 443us/sample - loss: 0.5174 - accuracy: 0.7774 - val_loss: 2.0420 - val_accuracy: 0.3669\n",
      "Epoch 13/60\n",
      "8544/8544 [==============================] - 4s 434us/sample - loss: 0.4618 - accuracy: 0.8155 - val_loss: 2.1055 - val_accuracy: 0.3560\n",
      "Epoch 14/60\n",
      "8544/8544 [==============================] - 4s 442us/sample - loss: 0.4142 - accuracy: 0.8543 - val_loss: 2.2555 - val_accuracy: 0.3842\n",
      "Epoch 15/60\n",
      "8544/8544 [==============================] - 4s 445us/sample - loss: 0.3678 - accuracy: 0.8851 - val_loss: 2.3391 - val_accuracy: 0.3660\n",
      "Epoch 16/60\n",
      "8544/8544 [==============================] - 4s 454us/sample - loss: 0.3197 - accuracy: 0.8996 - val_loss: 2.4325 - val_accuracy: 0.3906\n",
      "Epoch 17/60\n",
      "8544/8544 [==============================] - 4s 440us/sample - loss: 0.2685 - accuracy: 0.9173 - val_loss: 2.5779 - val_accuracy: 0.3633\n",
      "Epoch 18/60\n",
      "8544/8544 [==============================] - 4s 425us/sample - loss: 0.2398 - accuracy: 0.9270 - val_loss: 2.6812 - val_accuracy: 0.3706\n",
      "Epoch 19/60\n",
      "8544/8544 [==============================] - 4s 432us/sample - loss: 0.2184 - accuracy: 0.9331 - val_loss: 2.8240 - val_accuracy: 0.3697\n",
      "Epoch 20/60\n",
      "8544/8544 [==============================] - 4s 457us/sample - loss: 0.1936 - accuracy: 0.9403 - val_loss: 2.8982 - val_accuracy: 0.3724\n",
      "Epoch 21/60\n",
      "8544/8544 [==============================] - 4s 473us/sample - loss: 0.1762 - accuracy: 0.9439 - val_loss: 2.9328 - val_accuracy: 0.3624\n",
      "Epoch 22/60\n",
      "8544/8544 [==============================] - 4s 501us/sample - loss: 0.1672 - accuracy: 0.9476 - val_loss: 3.0437 - val_accuracy: 0.3624\n",
      "Epoch 23/60\n",
      "8544/8544 [==============================] - 4s 504us/sample - loss: 0.1492 - accuracy: 0.9541 - val_loss: 3.1456 - val_accuracy: 0.3588\n",
      "Epoch 24/60\n",
      "8544/8544 [==============================] - 4s 501us/sample - loss: 0.1404 - accuracy: 0.9587 - val_loss: 3.2072 - val_accuracy: 0.3642\n",
      "Epoch 25/60\n",
      "8544/8544 [==============================] - 4s 493us/sample - loss: 0.1208 - accuracy: 0.9635 - val_loss: 3.2106 - val_accuracy: 0.3460\n",
      "Epoch 26/60\n",
      "8544/8544 [==============================] - 4s 481us/sample - loss: 0.1191 - accuracy: 0.9635 - val_loss: 3.2768 - val_accuracy: 0.3515\n",
      "Epoch 27/60\n",
      "8544/8544 [==============================] - 4s 479us/sample - loss: 0.1043 - accuracy: 0.9685 - val_loss: 3.3930 - val_accuracy: 0.3606\n",
      "Epoch 28/60\n",
      "8544/8544 [==============================] - 4s 488us/sample - loss: 0.0947 - accuracy: 0.9710 - val_loss: 3.5337 - val_accuracy: 0.3579\n",
      "Epoch 29/60\n",
      "8544/8544 [==============================] - 4s 497us/sample - loss: 0.0927 - accuracy: 0.9711 - val_loss: 3.4643 - val_accuracy: 0.3542\n",
      "Epoch 30/60\n",
      "8544/8544 [==============================] - 4s 480us/sample - loss: 0.0897 - accuracy: 0.9724 - val_loss: 3.5320 - val_accuracy: 0.3270\n",
      "Epoch 31/60\n",
      "8544/8544 [==============================] - 4s 478us/sample - loss: 0.0791 - accuracy: 0.9773 - val_loss: 3.6885 - val_accuracy: 0.3488\n",
      "Epoch 32/60\n",
      "8544/8544 [==============================] - 4s 482us/sample - loss: 0.0747 - accuracy: 0.9787 - val_loss: 3.6994 - val_accuracy: 0.3506\n",
      "Epoch 33/60\n",
      "8544/8544 [==============================] - 4s 474us/sample - loss: 0.0741 - accuracy: 0.9790 - val_loss: 3.8426 - val_accuracy: 0.3569\n",
      "Epoch 34/60\n",
      "8544/8544 [==============================] - 4s 470us/sample - loss: 0.0719 - accuracy: 0.9792 - val_loss: 3.7456 - val_accuracy: 0.3497\n",
      "Epoch 35/60\n",
      "8544/8544 [==============================] - 4s 490us/sample - loss: 0.0617 - accuracy: 0.9824 - val_loss: 3.8982 - val_accuracy: 0.3451\n",
      "Epoch 36/60\n",
      "8544/8544 [==============================] - 5s 529us/sample - loss: 0.0596 - accuracy: 0.9836 - val_loss: 3.8702 - val_accuracy: 0.3460\n",
      "Epoch 37/60\n",
      "8544/8544 [==============================] - 4s 519us/sample - loss: 0.0557 - accuracy: 0.9848 - val_loss: 3.9766 - val_accuracy: 0.3442\n",
      "Epoch 38/60\n",
      "8544/8544 [==============================] - 4s 511us/sample - loss: 0.0513 - accuracy: 0.9858 - val_loss: 4.0317 - val_accuracy: 0.3470\n",
      "Epoch 39/60\n",
      "8544/8544 [==============================] - 4s 494us/sample - loss: 0.0523 - accuracy: 0.9854 - val_loss: 3.9332 - val_accuracy: 0.3488\n",
      "Epoch 40/60\n",
      "8544/8544 [==============================] - 4s 478us/sample - loss: 0.0488 - accuracy: 0.9869 - val_loss: 4.1096 - val_accuracy: 0.3506\n",
      "Epoch 41/60\n",
      "8544/8544 [==============================] - 4s 481us/sample - loss: 0.0501 - accuracy: 0.9860 - val_loss: 4.2351 - val_accuracy: 0.3506\n",
      "Epoch 42/60\n",
      "8544/8544 [==============================] - 4s 486us/sample - loss: 0.0446 - accuracy: 0.9875 - val_loss: 4.2325 - val_accuracy: 0.3397\n",
      "Epoch 43/60\n",
      "8544/8544 [==============================] - 4s 510us/sample - loss: 0.0451 - accuracy: 0.9870 - val_loss: 4.3490 - val_accuracy: 0.3542\n",
      "Epoch 44/60\n",
      "8544/8544 [==============================] - 4s 513us/sample - loss: 0.0415 - accuracy: 0.9889 - val_loss: 4.3615 - val_accuracy: 0.3388\n",
      "Epoch 45/60\n",
      "8544/8544 [==============================] - 4s 506us/sample - loss: 0.0426 - accuracy: 0.9882 - val_loss: 4.3896 - val_accuracy: 0.3279\n",
      "Epoch 46/60\n",
      "8544/8544 [==============================] - 4s 488us/sample - loss: 0.0389 - accuracy: 0.9893 - val_loss: 4.3618 - val_accuracy: 0.3351\n",
      "Epoch 47/60\n",
      "8544/8544 [==============================] - 4s 492us/sample - loss: 0.0394 - accuracy: 0.9890 - val_loss: 4.4556 - val_accuracy: 0.3406\n",
      "Epoch 48/60\n",
      "8544/8544 [==============================] - 4s 487us/sample - loss: 0.0320 - accuracy: 0.9920 - val_loss: 4.4673 - val_accuracy: 0.3361\n",
      "Epoch 49/60\n",
      "8544/8544 [==============================] - 4s 491us/sample - loss: 0.0386 - accuracy: 0.9889 - val_loss: 4.3772 - val_accuracy: 0.3397\n",
      "Epoch 50/60\n",
      "8544/8544 [==============================] - 4s 490us/sample - loss: 0.0305 - accuracy: 0.9919 - val_loss: 4.5986 - val_accuracy: 0.3288\n",
      "Epoch 51/60\n",
      "8544/8544 [==============================] - 4s 510us/sample - loss: 0.0348 - accuracy: 0.9898 - val_loss: 4.4765 - val_accuracy: 0.3315\n",
      "Epoch 52/60\n",
      "8544/8544 [==============================] - 4s 491us/sample - loss: 0.0302 - accuracy: 0.9912 - val_loss: 4.5313 - val_accuracy: 0.3442\n",
      "Epoch 53/60\n",
      "8544/8544 [==============================] - 4s 490us/sample - loss: 0.0315 - accuracy: 0.9901 - val_loss: 4.6689 - val_accuracy: 0.3379\n",
      "Epoch 54/60\n",
      "8544/8544 [==============================] - 4s 497us/sample - loss: 0.0259 - accuracy: 0.9939 - val_loss: 4.5607 - val_accuracy: 0.3397\n",
      "Epoch 55/60\n",
      "8544/8544 [==============================] - 4s 502us/sample - loss: 0.0266 - accuracy: 0.9930 - val_loss: 4.7003 - val_accuracy: 0.3433\n",
      "Epoch 56/60\n",
      "8544/8544 [==============================] - 4s 499us/sample - loss: 0.0268 - accuracy: 0.9926 - val_loss: 4.7191 - val_accuracy: 0.3361\n",
      "Epoch 57/60\n",
      "8544/8544 [==============================] - 4s 503us/sample - loss: 0.0237 - accuracy: 0.9944 - val_loss: 4.7842 - val_accuracy: 0.3379\n",
      "Epoch 58/60\n",
      "8544/8544 [==============================] - 4s 500us/sample - loss: 0.0239 - accuracy: 0.9937 - val_loss: 4.7874 - val_accuracy: 0.3370\n",
      "Epoch 59/60\n",
      "8544/8544 [==============================] - 4s 510us/sample - loss: 0.0241 - accuracy: 0.9931 - val_loss: 4.8098 - val_accuracy: 0.3306\n",
      "Epoch 60/60\n",
      "8544/8544 [==============================] - 4s 517us/sample - loss: 0.0233 - accuracy: 0.9933 - val_loss: 4.7737 - val_accuracy: 0.3370\n"
     ]
    },
    {
     "data": {
      "image/png": "[encoded data removed]",
      "text/plain": [
       "<Figure size 432x288 with 2 Axes>"
      ]
     },
     "metadata": {
      "needs_background": "light"
     },
     "output_type": "display_data"
    }
   ],
   "source": [
    "# 5 - Train your model and find the best hyperparameters for your dev set\n",
    "#     you will be evaluated on the quality of your predictions on the test set\n",
    "#     Keras expects y_train and y_dev to be one-hot encodings of the labels, i.e. with shape=(n_samples, 5)\n",
    "\n",
    "# ADAPT CODE BELOW\n",
    "bs = 200\n",
    "n_epochs = 60 #train accuracy at 100% with 60\n",
    "\n",
    "history = model.fit(x_train_tf, y_train_tf, batch_size=bs, nb_epoch=n_epochs, validation_data=(x_dev_tf, y_dev_tf))\n",
    "\n",
    "#history.history.keys()\n",
    "plt.subplot(1,2,1)\n",
    "plt.title(\"Model Acccuracy\") #\"acc\" on colab \"accuracy\" on self..\n",
    "a,=plt.plot(np.arange(n_epochs)+1,history.history[\"accuracy\"],label=\"train\")\n",
    "b,=plt.plot(np.arange(n_epochs)+1,history.history[\"val_accuracy\"],label=\"dev\")\n",
    "plt.legend(handles=[a,b])\n",
    "plt.xlabel(\"number of epochs\")\n",
    "plt.ylabel(\"accuracy\")\n",
    "\n",
    "plt.subplot(1,2,2)\n",
    "plt.title(\"Model Loss\")\n",
    "a,=plt.plot(np.arange(n_epochs)+1,history.history[\"loss\"],label=\"train\")\n",
    "b,=plt.plot(np.arange(n_epochs)+1,history.history[\"val_loss\"],label=\"dev\")\n",
    "plt.legend(handles=[a,b])\n",
    "plt.xlabel(\"number of epochs\")\n",
    "plt.ylabel(\"loss\")\n",
    "plt.show()\n",
    "\n"
   ]
  },
  {
   "cell_type": "code",
   "execution_count": 43,
   "metadata": {
    "colab": {
     "base_uri": "https://localhost:8080/",
     "height": 241
    },
    "colab_type": "code",
    "id": "4k-yMq_liiPg",
    "outputId": "d31edf70-03fe-4ad2-8593-5c0eab281806"
   },
   "outputs": [
    {
     "name": "stdout",
     "output_type": "stream",
     "text": [
      "WARNING:tensorflow:The `nb_epoch` argument in `fit` has been renamed `epochs`.\n",
      "Train on 8544 samples, validate on 1101 samples\n",
      "Epoch 1/40\n",
      "8544/8544 [==============================] - 5s 583us/sample - loss: 1.5815 - accuracy: 0.2692 - val_loss: 1.5708 - val_accuracy: 0.2534\n",
      "Epoch 2/40\n",
      "8544/8544 [==============================] - 4s 429us/sample - loss: 1.5607 - accuracy: 0.2808 - val_loss: 1.5632 - val_accuracy: 0.2534\n",
      "Epoch 3/40\n",
      "8544/8544 [==============================] - 4s 419us/sample - loss: 1.5172 - accuracy: 0.3085 - val_loss: 1.5241 - val_accuracy: 0.3361\n",
      "Epoch 4/40\n",
      "8544/8544 [==============================] - 4s 442us/sample - loss: 1.3880 - accuracy: 0.4212 - val_loss: 1.4490 - val_accuracy: 0.3688\n",
      "Epoch 5/40\n",
      "8544/8544 [==============================] - 4s 446us/sample - loss: 1.2114 - accuracy: 0.5136 - val_loss: 1.4316 - val_accuracy: 0.3806\n",
      "Epoch 6/40\n",
      "8544/8544 [==============================] - 4s 427us/sample - loss: 1.0647 - accuracy: 0.5813 - val_loss: 1.4939 - val_accuracy: 0.3797\n",
      "Epoch 7/40\n",
      "8544/8544 [==============================] - 4s 448us/sample - loss: 0.9192 - accuracy: 0.6419 - val_loss: 1.5371 - val_accuracy: 0.3751\n",
      "Epoch 8/40\n",
      "8544/8544 [==============================] - 4s 441us/sample - loss: 0.7906 - accuracy: 0.7031 - val_loss: 1.6777 - val_accuracy: 0.3751\n",
      "Epoch 9/40\n",
      "8544/8544 [==============================] - 4s 450us/sample - loss: 0.6759 - accuracy: 0.7601 - val_loss: 1.7775 - val_accuracy: 0.3569\n",
      "Epoch 10/40\n",
      "8544/8544 [==============================] - 4s 465us/sample - loss: 0.5778 - accuracy: 0.7989 - val_loss: 1.8896 - val_accuracy: 0.3688\n",
      "Epoch 11/40\n",
      "8544/8544 [==============================] - 4s 433us/sample - loss: 0.4820 - accuracy: 0.8377 - val_loss: 2.0228 - val_accuracy: 0.3633\n",
      "Epoch 12/40\n",
      "8544/8544 [==============================] - 4s 450us/sample - loss: 0.4008 - accuracy: 0.8699 - val_loss: 2.1533 - val_accuracy: 0.3542\n",
      "Epoch 13/40\n",
      "8544/8544 [==============================] - 4s 445us/sample - loss: 0.3370 - accuracy: 0.8944 - val_loss: 2.2957 - val_accuracy: 0.3506\n",
      "Epoch 14/40\n",
      "8544/8544 [==============================] - 4s 437us/sample - loss: 0.2958 - accuracy: 0.9054 - val_loss: 2.4367 - val_accuracy: 0.3542\n",
      "Epoch 15/40\n",
      "8544/8544 [==============================] - 4s 448us/sample - loss: 0.2606 - accuracy: 0.9183 - val_loss: 2.4827 - val_accuracy: 0.3488\n",
      "Epoch 16/40\n",
      "8544/8544 [==============================] - 4s 440us/sample - loss: 0.2207 - accuracy: 0.9315 - val_loss: 2.6835 - val_accuracy: 0.3460\n",
      "Epoch 17/40\n",
      "8544/8544 [==============================] - 4s 445us/sample - loss: 0.2091 - accuracy: 0.9363 - val_loss: 2.7771 - val_accuracy: 0.3361\n",
      "Epoch 18/40\n",
      "8544/8544 [==============================] - 4s 448us/sample - loss: 0.1913 - accuracy: 0.9407 - val_loss: 2.8447 - val_accuracy: 0.3515\n",
      "Epoch 19/40\n",
      "8544/8544 [==============================] - 4s 466us/sample - loss: 0.1697 - accuracy: 0.9459 - val_loss: 2.9595 - val_accuracy: 0.3424\n",
      "Epoch 20/40\n",
      "8544/8544 [==============================] - 4s 457us/sample - loss: 0.1535 - accuracy: 0.9533 - val_loss: 3.0965 - val_accuracy: 0.3497\n",
      "Epoch 21/40\n",
      "8544/8544 [==============================] - 4s 454us/sample - loss: 0.1428 - accuracy: 0.9544 - val_loss: 3.0454 - val_accuracy: 0.3488\n",
      "Epoch 22/40\n",
      "8544/8544 [==============================] - 4s 459us/sample - loss: 0.1266 - accuracy: 0.9644 - val_loss: 3.1628 - val_accuracy: 0.3279\n",
      "Epoch 23/40\n",
      "8544/8544 [==============================] - 4s 425us/sample - loss: 0.1165 - accuracy: 0.9645 - val_loss: 3.2568 - val_accuracy: 0.3479\n",
      "Epoch 24/40\n",
      "8544/8544 [==============================] - 4s 443us/sample - loss: 0.1083 - accuracy: 0.9696 - val_loss: 3.3671 - val_accuracy: 0.3406\n",
      "Epoch 25/40\n",
      "8544/8544 [==============================] - 4s 446us/sample - loss: 0.1047 - accuracy: 0.9696 - val_loss: 3.4327 - val_accuracy: 0.3433\n",
      "Epoch 26/40\n",
      "8544/8544 [==============================] - 4s 455us/sample - loss: 0.0904 - accuracy: 0.9741 - val_loss: 3.5036 - val_accuracy: 0.3506\n",
      "Epoch 27/40\n",
      "8544/8544 [==============================] - 4s 521us/sample - loss: 0.0860 - accuracy: 0.9760 - val_loss: 3.5184 - val_accuracy: 0.3406\n",
      "Epoch 28/40\n",
      "8544/8544 [==============================] - 4s 449us/sample - loss: 0.0808 - accuracy: 0.9767 - val_loss: 3.6726 - val_accuracy: 0.3406\n",
      "Epoch 29/40\n",
      "8544/8544 [==============================] - 4s 450us/sample - loss: 0.0759 - accuracy: 0.9782 - val_loss: 3.5635 - val_accuracy: 0.3379\n",
      "Epoch 30/40\n",
      "8544/8544 [==============================] - 4s 459us/sample - loss: 0.0723 - accuracy: 0.9789 - val_loss: 3.7811 - val_accuracy: 0.3333\n",
      "Epoch 31/40\n",
      "8544/8544 [==============================] - 4s 466us/sample - loss: 0.0706 - accuracy: 0.9812 - val_loss: 3.7372 - val_accuracy: 0.3397\n",
      "Epoch 32/40\n",
      "8544/8544 [==============================] - 4s 471us/sample - loss: 0.0686 - accuracy: 0.9798 - val_loss: 3.9140 - val_accuracy: 0.3479\n",
      "Epoch 33/40\n",
      "8544/8544 [==============================] - 4s 491us/sample - loss: 0.0599 - accuracy: 0.9821 - val_loss: 3.9145 - val_accuracy: 0.3379\n",
      "Epoch 34/40\n",
      "8544/8544 [==============================] - 4s 489us/sample - loss: 0.0525 - accuracy: 0.9850 - val_loss: 4.0480 - val_accuracy: 0.3261\n",
      "Epoch 35/40\n",
      "8544/8544 [==============================] - 4s 474us/sample - loss: 0.0554 - accuracy: 0.9834 - val_loss: 4.0329 - val_accuracy: 0.3406\n",
      "Epoch 36/40\n",
      "8544/8544 [==============================] - 4s 486us/sample - loss: 0.0554 - accuracy: 0.9846 - val_loss: 4.1300 - val_accuracy: 0.3270\n",
      "Epoch 37/40\n",
      "8544/8544 [==============================] - 4s 473us/sample - loss: 0.0490 - accuracy: 0.9867 - val_loss: 4.2594 - val_accuracy: 0.3406\n",
      "Epoch 38/40\n",
      "8544/8544 [==============================] - 4s 480us/sample - loss: 0.0490 - accuracy: 0.9858 - val_loss: 4.2345 - val_accuracy: 0.3279\n",
      "Epoch 39/40\n",
      "8544/8544 [==============================] - 4s 490us/sample - loss: 0.0455 - accuracy: 0.9872 - val_loss: 4.2400 - val_accuracy: 0.3342\n",
      "Epoch 40/40\n",
      "8544/8544 [==============================] - 4s 510us/sample - loss: 0.0408 - accuracy: 0.9889 - val_loss: 4.2762 - val_accuracy: 0.3451\n"
     ]
    }
   ],
   "source": [
    "# 6 - Generate your predictions on the test set using model.predict(x_test)\n",
    "#     https://keras.io/models/model/\n",
    "#     Log your predictions in a file (one line = one integer: 0,1,2,3,4)\n",
    "#     Attach the output file \"logreg_lstm_y_test_sst.txt\" to your deliverable.\n",
    "\n",
    "model = Sequential()\n",
    "model.add(Embedding(vocab_size, embed_dim))\n",
    "model.add(LSTM(nhid, dropout=0.2, recurrent_dropout=0.2))\n",
    "model.add(Dense(n_classes, activation='sigmoid'))\n",
    "model.compile(loss=loss_classif,\n",
    "              optimizer=optimizer,\n",
    "              metrics=metrics_classif)\n",
    "#5 epochs in order to avoid overfitting\n",
    "model.fit(x_train_tf, y_train_tf, batch_size=bs, nb_epoch=40, validation_data=(x_dev_tf, y_dev_tf))\n",
    "\n",
    "pred=model.predict(x_test_tf)\n",
    "pred=np.argmax(pred,axis=1) \n",
    "with open(\"logreg_lstm_y_test_sst.txt\",'w') as f:\n",
    "    for p in pred:\n",
    "        f.write(str(p)+'\\n')"
   ]
  },
  {
   "cell_type": "markdown",
   "metadata": {
    "colab_type": "text",
    "id": "FhON22UFiiPh"
   },
   "source": [
    "## 4.3 - innovate !"
   ]
  },
  {
   "cell_type": "code",
   "execution_count": 40,
   "metadata": {
    "colab": {
     "base_uri": "https://localhost:8080/",
     "height": 412
    },
    "colab_type": "code",
    "id": "nEkeDWwDyAY2",
    "outputId": "2fa7c898-b031-41e2-8972-d8806eeb0efb"
   },
   "outputs": [
    {
     "name": "stdout",
     "output_type": "stream",
     "text": [
      "Model: \"sequential_7\"\n",
      "_________________________________________________________________\n",
      "Layer (type)                 Output Shape              Param #   \n",
      "=================================================================\n",
      "embedding_7 (Embedding)      (None, None, 45)          2250000   \n",
      "_________________________________________________________________\n",
      "bidirectional_2 (Bidirection (None, 512)               618496    \n",
      "_________________________________________________________________\n",
      "dense_7 (Dense)              (None, 5)                 2565      \n",
      "=================================================================\n",
      "Total params: 2,871,061\n",
      "Trainable params: 2,871,061\n",
      "Non-trainable params: 0\n",
      "_________________________________________________________________\n",
      "WARNING:tensorflow:The `nb_epoch` argument in `fit` has been renamed `epochs`.\n",
      "Train on 8544 samples, validate on 1101 samples\n",
      "Epoch 1/80\n",
      "3200/8544 [==========>...................] - ETA: 19s - loss: 1.5814 - accuracy: 0.2657"
     ]
    },
    {
     "ename": "KeyboardInterrupt",
     "evalue": "",
     "output_type": "error",
     "traceback": [
      "\u001b[0;31m---------------------------------------------------------------------------\u001b[0m",
      "\u001b[0;31mKeyboardInterrupt\u001b[0m                         Traceback (most recent call last)",
      "\u001b[0;32m<ipython-input-40-7c1676127d06>\u001b[0m in \u001b[0;36m<module>\u001b[0;34m\u001b[0m\n\u001b[1;32m     17\u001b[0m \u001b[0;34m\u001b[0m\u001b[0m\n\u001b[1;32m     18\u001b[0m \u001b[0mmodel\u001b[0m\u001b[0;34m.\u001b[0m\u001b[0msummary\u001b[0m\u001b[0;34m(\u001b[0m\u001b[0;34m)\u001b[0m\u001b[0;34m\u001b[0m\u001b[0;34m\u001b[0m\u001b[0m\n\u001b[0;32m---> 19\u001b[0;31m \u001b[0mmodel\u001b[0m\u001b[0;34m.\u001b[0m\u001b[0mfit\u001b[0m\u001b[0;34m(\u001b[0m\u001b[0mx_train_tf\u001b[0m\u001b[0;34m,\u001b[0m \u001b[0my_train_tf\u001b[0m\u001b[0;34m,\u001b[0m \u001b[0mbatch_size\u001b[0m\u001b[0;34m=\u001b[0m\u001b[0mbs\u001b[0m\u001b[0;34m,\u001b[0m \u001b[0mnb_epoch\u001b[0m\u001b[0;34m=\u001b[0m\u001b[0mn_epochs\u001b[0m\u001b[0;34m,\u001b[0m \u001b[0mvalidation_data\u001b[0m\u001b[0;34m=\u001b[0m\u001b[0;34m(\u001b[0m\u001b[0mx_dev_tf\u001b[0m\u001b[0;34m,\u001b[0m \u001b[0my_dev_tf\u001b[0m\u001b[0;34m)\u001b[0m\u001b[0;34m)\u001b[0m\u001b[0;34m\u001b[0m\u001b[0;34m\u001b[0m\u001b[0m\n\u001b[0m\u001b[1;32m     20\u001b[0m \u001b[0;34m\u001b[0m\u001b[0m\n\u001b[1;32m     21\u001b[0m \u001b[0;31m#history.history.keys()\u001b[0m\u001b[0;34m\u001b[0m\u001b[0;34m\u001b[0m\u001b[0;34m\u001b[0m\u001b[0m\n",
      "\u001b[0;32m~/opt/anaconda3/lib/python3.7/site-packages/tensorflow_core/python/keras/engine/training.py\u001b[0m in \u001b[0;36mfit\u001b[0;34m(self, x, y, batch_size, epochs, verbose, callbacks, validation_split, validation_data, shuffle, class_weight, sample_weight, initial_epoch, steps_per_epoch, validation_steps, validation_freq, max_queue_size, workers, use_multiprocessing, **kwargs)\u001b[0m\n\u001b[1;32m    726\u001b[0m         \u001b[0mmax_queue_size\u001b[0m\u001b[0;34m=\u001b[0m\u001b[0mmax_queue_size\u001b[0m\u001b[0;34m,\u001b[0m\u001b[0;34m\u001b[0m\u001b[0;34m\u001b[0m\u001b[0m\n\u001b[1;32m    727\u001b[0m         \u001b[0mworkers\u001b[0m\u001b[0;34m=\u001b[0m\u001b[0mworkers\u001b[0m\u001b[0;34m,\u001b[0m\u001b[0;34m\u001b[0m\u001b[0;34m\u001b[0m\u001b[0m\n\u001b[0;32m--> 728\u001b[0;31m         use_multiprocessing=use_multiprocessing)\n\u001b[0m\u001b[1;32m    729\u001b[0m \u001b[0;34m\u001b[0m\u001b[0m\n\u001b[1;32m    730\u001b[0m   def evaluate(self,\n",
      "\u001b[0;32m~/opt/anaconda3/lib/python3.7/site-packages/tensorflow_core/python/keras/engine/training_v2.py\u001b[0m in \u001b[0;36mfit\u001b[0;34m(self, model, x, y, batch_size, epochs, verbose, callbacks, validation_split, validation_data, shuffle, class_weight, sample_weight, initial_epoch, steps_per_epoch, validation_steps, validation_freq, **kwargs)\u001b[0m\n\u001b[1;32m    322\u001b[0m                 \u001b[0mmode\u001b[0m\u001b[0;34m=\u001b[0m\u001b[0mModeKeys\u001b[0m\u001b[0;34m.\u001b[0m\u001b[0mTRAIN\u001b[0m\u001b[0;34m,\u001b[0m\u001b[0;34m\u001b[0m\u001b[0;34m\u001b[0m\u001b[0m\n\u001b[1;32m    323\u001b[0m                 \u001b[0mtraining_context\u001b[0m\u001b[0;34m=\u001b[0m\u001b[0mtraining_context\u001b[0m\u001b[0;34m,\u001b[0m\u001b[0;34m\u001b[0m\u001b[0;34m\u001b[0m\u001b[0m\n\u001b[0;32m--> 324\u001b[0;31m                 total_epochs=epochs)\n\u001b[0m\u001b[1;32m    325\u001b[0m             \u001b[0mcbks\u001b[0m\u001b[0;34m.\u001b[0m\u001b[0mmake_logs\u001b[0m\u001b[0;34m(\u001b[0m\u001b[0mmodel\u001b[0m\u001b[0;34m,\u001b[0m \u001b[0mepoch_logs\u001b[0m\u001b[0;34m,\u001b[0m \u001b[0mtraining_result\u001b[0m\u001b[0;34m,\u001b[0m \u001b[0mModeKeys\u001b[0m\u001b[0;34m.\u001b[0m\u001b[0mTRAIN\u001b[0m\u001b[0;34m)\u001b[0m\u001b[0;34m\u001b[0m\u001b[0;34m\u001b[0m\u001b[0m\n\u001b[1;32m    326\u001b[0m \u001b[0;34m\u001b[0m\u001b[0m\n",
      "\u001b[0;32m~/opt/anaconda3/lib/python3.7/site-packages/tensorflow_core/python/keras/engine/training_v2.py\u001b[0m in \u001b[0;36mrun_one_epoch\u001b[0;34m(model, iterator, execution_function, dataset_size, batch_size, strategy, steps_per_epoch, num_samples, mode, training_context, total_epochs)\u001b[0m\n\u001b[1;32m    121\u001b[0m         step=step, mode=mode, size=current_batch_size) as batch_logs:\n\u001b[1;32m    122\u001b[0m       \u001b[0;32mtry\u001b[0m\u001b[0;34m:\u001b[0m\u001b[0;34m\u001b[0m\u001b[0;34m\u001b[0m\u001b[0m\n\u001b[0;32m--> 123\u001b[0;31m         \u001b[0mbatch_outs\u001b[0m \u001b[0;34m=\u001b[0m \u001b[0mexecution_function\u001b[0m\u001b[0;34m(\u001b[0m\u001b[0miterator\u001b[0m\u001b[0;34m)\u001b[0m\u001b[0;34m\u001b[0m\u001b[0;34m\u001b[0m\u001b[0m\n\u001b[0m\u001b[1;32m    124\u001b[0m       \u001b[0;32mexcept\u001b[0m \u001b[0;34m(\u001b[0m\u001b[0mStopIteration\u001b[0m\u001b[0;34m,\u001b[0m \u001b[0merrors\u001b[0m\u001b[0;34m.\u001b[0m\u001b[0mOutOfRangeError\u001b[0m\u001b[0;34m)\u001b[0m\u001b[0;34m:\u001b[0m\u001b[0;34m\u001b[0m\u001b[0;34m\u001b[0m\u001b[0m\n\u001b[1;32m    125\u001b[0m         \u001b[0;31m# TODO(kaftan): File bug about tf function and errors.OutOfRangeError?\u001b[0m\u001b[0;34m\u001b[0m\u001b[0;34m\u001b[0m\u001b[0;34m\u001b[0m\u001b[0m\n",
      "\u001b[0;32m~/opt/anaconda3/lib/python3.7/site-packages/tensorflow_core/python/keras/engine/training_v2_utils.py\u001b[0m in \u001b[0;36mexecution_function\u001b[0;34m(input_fn)\u001b[0m\n\u001b[1;32m     84\u001b[0m     \u001b[0;31m# `numpy` translates Tensors to values in Eager mode.\u001b[0m\u001b[0;34m\u001b[0m\u001b[0;34m\u001b[0m\u001b[0;34m\u001b[0m\u001b[0m\n\u001b[1;32m     85\u001b[0m     return nest.map_structure(_non_none_constant_value,\n\u001b[0;32m---> 86\u001b[0;31m                               distributed_function(input_fn))\n\u001b[0m\u001b[1;32m     87\u001b[0m \u001b[0;34m\u001b[0m\u001b[0m\n\u001b[1;32m     88\u001b[0m   \u001b[0;32mreturn\u001b[0m \u001b[0mexecution_function\u001b[0m\u001b[0;34m\u001b[0m\u001b[0;34m\u001b[0m\u001b[0m\n",
      "\u001b[0;32m~/opt/anaconda3/lib/python3.7/site-packages/tensorflow_core/python/eager/def_function.py\u001b[0m in \u001b[0;36m__call__\u001b[0;34m(self, *args, **kwds)\u001b[0m\n\u001b[1;32m    455\u001b[0m \u001b[0;34m\u001b[0m\u001b[0m\n\u001b[1;32m    456\u001b[0m     \u001b[0mtracing_count\u001b[0m \u001b[0;34m=\u001b[0m \u001b[0mself\u001b[0m\u001b[0;34m.\u001b[0m\u001b[0m_get_tracing_count\u001b[0m\u001b[0;34m(\u001b[0m\u001b[0;34m)\u001b[0m\u001b[0;34m\u001b[0m\u001b[0;34m\u001b[0m\u001b[0m\n\u001b[0;32m--> 457\u001b[0;31m     \u001b[0mresult\u001b[0m \u001b[0;34m=\u001b[0m \u001b[0mself\u001b[0m\u001b[0;34m.\u001b[0m\u001b[0m_call\u001b[0m\u001b[0;34m(\u001b[0m\u001b[0;34m*\u001b[0m\u001b[0margs\u001b[0m\u001b[0;34m,\u001b[0m \u001b[0;34m**\u001b[0m\u001b[0mkwds\u001b[0m\u001b[0;34m)\u001b[0m\u001b[0;34m\u001b[0m\u001b[0;34m\u001b[0m\u001b[0m\n\u001b[0m\u001b[1;32m    458\u001b[0m     \u001b[0;32mif\u001b[0m \u001b[0mtracing_count\u001b[0m \u001b[0;34m==\u001b[0m \u001b[0mself\u001b[0m\u001b[0;34m.\u001b[0m\u001b[0m_get_tracing_count\u001b[0m\u001b[0;34m(\u001b[0m\u001b[0;34m)\u001b[0m\u001b[0;34m:\u001b[0m\u001b[0;34m\u001b[0m\u001b[0;34m\u001b[0m\u001b[0m\n\u001b[1;32m    459\u001b[0m       \u001b[0mself\u001b[0m\u001b[0;34m.\u001b[0m\u001b[0m_call_counter\u001b[0m\u001b[0;34m.\u001b[0m\u001b[0mcalled_without_tracing\u001b[0m\u001b[0;34m(\u001b[0m\u001b[0;34m)\u001b[0m\u001b[0;34m\u001b[0m\u001b[0;34m\u001b[0m\u001b[0m\n",
      "\u001b[0;32m~/opt/anaconda3/lib/python3.7/site-packages/tensorflow_core/python/eager/def_function.py\u001b[0m in \u001b[0;36m_call\u001b[0;34m(self, *args, **kwds)\u001b[0m\n\u001b[1;32m    485\u001b[0m       \u001b[0;31m# In this case we have created variables on the first call, so we run the\u001b[0m\u001b[0;34m\u001b[0m\u001b[0;34m\u001b[0m\u001b[0;34m\u001b[0m\u001b[0m\n\u001b[1;32m    486\u001b[0m       \u001b[0;31m# defunned version which is guaranteed to never create variables.\u001b[0m\u001b[0;34m\u001b[0m\u001b[0;34m\u001b[0m\u001b[0;34m\u001b[0m\u001b[0m\n\u001b[0;32m--> 487\u001b[0;31m       \u001b[0;32mreturn\u001b[0m \u001b[0mself\u001b[0m\u001b[0;34m.\u001b[0m\u001b[0m_stateless_fn\u001b[0m\u001b[0;34m(\u001b[0m\u001b[0;34m*\u001b[0m\u001b[0margs\u001b[0m\u001b[0;34m,\u001b[0m \u001b[0;34m**\u001b[0m\u001b[0mkwds\u001b[0m\u001b[0;34m)\u001b[0m  \u001b[0;31m# pylint: disable=not-callable\u001b[0m\u001b[0;34m\u001b[0m\u001b[0;34m\u001b[0m\u001b[0m\n\u001b[0m\u001b[1;32m    488\u001b[0m     \u001b[0;32melif\u001b[0m \u001b[0mself\u001b[0m\u001b[0;34m.\u001b[0m\u001b[0m_stateful_fn\u001b[0m \u001b[0;32mis\u001b[0m \u001b[0;32mnot\u001b[0m \u001b[0;32mNone\u001b[0m\u001b[0;34m:\u001b[0m\u001b[0;34m\u001b[0m\u001b[0;34m\u001b[0m\u001b[0m\n\u001b[1;32m    489\u001b[0m       \u001b[0;31m# Release the lock early so that multiple threads can perform the call\u001b[0m\u001b[0;34m\u001b[0m\u001b[0;34m\u001b[0m\u001b[0;34m\u001b[0m\u001b[0m\n",
      "\u001b[0;32m~/opt/anaconda3/lib/python3.7/site-packages/tensorflow_core/python/eager/function.py\u001b[0m in \u001b[0;36m__call__\u001b[0;34m(self, *args, **kwargs)\u001b[0m\n\u001b[1;32m   1821\u001b[0m     \u001b[0;34m\"\"\"Calls a graph function specialized to the inputs.\"\"\"\u001b[0m\u001b[0;34m\u001b[0m\u001b[0;34m\u001b[0m\u001b[0m\n\u001b[1;32m   1822\u001b[0m     \u001b[0mgraph_function\u001b[0m\u001b[0;34m,\u001b[0m \u001b[0margs\u001b[0m\u001b[0;34m,\u001b[0m \u001b[0mkwargs\u001b[0m \u001b[0;34m=\u001b[0m \u001b[0mself\u001b[0m\u001b[0;34m.\u001b[0m\u001b[0m_maybe_define_function\u001b[0m\u001b[0;34m(\u001b[0m\u001b[0margs\u001b[0m\u001b[0;34m,\u001b[0m \u001b[0mkwargs\u001b[0m\u001b[0;34m)\u001b[0m\u001b[0;34m\u001b[0m\u001b[0;34m\u001b[0m\u001b[0m\n\u001b[0;32m-> 1823\u001b[0;31m     \u001b[0;32mreturn\u001b[0m \u001b[0mgraph_function\u001b[0m\u001b[0;34m.\u001b[0m\u001b[0m_filtered_call\u001b[0m\u001b[0;34m(\u001b[0m\u001b[0margs\u001b[0m\u001b[0;34m,\u001b[0m \u001b[0mkwargs\u001b[0m\u001b[0;34m)\u001b[0m  \u001b[0;31m# pylint: disable=protected-access\u001b[0m\u001b[0;34m\u001b[0m\u001b[0;34m\u001b[0m\u001b[0m\n\u001b[0m\u001b[1;32m   1824\u001b[0m \u001b[0;34m\u001b[0m\u001b[0m\n\u001b[1;32m   1825\u001b[0m   \u001b[0;34m@\u001b[0m\u001b[0mproperty\u001b[0m\u001b[0;34m\u001b[0m\u001b[0;34m\u001b[0m\u001b[0m\n",
      "\u001b[0;32m~/opt/anaconda3/lib/python3.7/site-packages/tensorflow_core/python/eager/function.py\u001b[0m in \u001b[0;36m_filtered_call\u001b[0;34m(self, args, kwargs)\u001b[0m\n\u001b[1;32m   1139\u001b[0m          if isinstance(t, (ops.Tensor,\n\u001b[1;32m   1140\u001b[0m                            resource_variable_ops.BaseResourceVariable))),\n\u001b[0;32m-> 1141\u001b[0;31m         self.captured_inputs)\n\u001b[0m\u001b[1;32m   1142\u001b[0m \u001b[0;34m\u001b[0m\u001b[0m\n\u001b[1;32m   1143\u001b[0m   \u001b[0;32mdef\u001b[0m \u001b[0m_call_flat\u001b[0m\u001b[0;34m(\u001b[0m\u001b[0mself\u001b[0m\u001b[0;34m,\u001b[0m \u001b[0margs\u001b[0m\u001b[0;34m,\u001b[0m \u001b[0mcaptured_inputs\u001b[0m\u001b[0;34m,\u001b[0m \u001b[0mcancellation_manager\u001b[0m\u001b[0;34m=\u001b[0m\u001b[0;32mNone\u001b[0m\u001b[0;34m)\u001b[0m\u001b[0;34m:\u001b[0m\u001b[0;34m\u001b[0m\u001b[0;34m\u001b[0m\u001b[0m\n",
      "\u001b[0;32m~/opt/anaconda3/lib/python3.7/site-packages/tensorflow_core/python/eager/function.py\u001b[0m in \u001b[0;36m_call_flat\u001b[0;34m(self, args, captured_inputs, cancellation_manager)\u001b[0m\n\u001b[1;32m   1222\u001b[0m     \u001b[0;32mif\u001b[0m \u001b[0mexecuting_eagerly\u001b[0m\u001b[0;34m:\u001b[0m\u001b[0;34m\u001b[0m\u001b[0;34m\u001b[0m\u001b[0m\n\u001b[1;32m   1223\u001b[0m       flat_outputs = forward_function.call(\n\u001b[0;32m-> 1224\u001b[0;31m           ctx, args, cancellation_manager=cancellation_manager)\n\u001b[0m\u001b[1;32m   1225\u001b[0m     \u001b[0;32melse\u001b[0m\u001b[0;34m:\u001b[0m\u001b[0;34m\u001b[0m\u001b[0;34m\u001b[0m\u001b[0m\n\u001b[1;32m   1226\u001b[0m       \u001b[0mgradient_name\u001b[0m \u001b[0;34m=\u001b[0m \u001b[0mself\u001b[0m\u001b[0;34m.\u001b[0m\u001b[0m_delayed_rewrite_functions\u001b[0m\u001b[0;34m.\u001b[0m\u001b[0mregister\u001b[0m\u001b[0;34m(\u001b[0m\u001b[0;34m)\u001b[0m\u001b[0;34m\u001b[0m\u001b[0;34m\u001b[0m\u001b[0m\n",
      "\u001b[0;32m~/opt/anaconda3/lib/python3.7/site-packages/tensorflow_core/python/eager/function.py\u001b[0m in \u001b[0;36mcall\u001b[0;34m(self, ctx, args, cancellation_manager)\u001b[0m\n\u001b[1;32m    509\u001b[0m               \u001b[0minputs\u001b[0m\u001b[0;34m=\u001b[0m\u001b[0margs\u001b[0m\u001b[0;34m,\u001b[0m\u001b[0;34m\u001b[0m\u001b[0;34m\u001b[0m\u001b[0m\n\u001b[1;32m    510\u001b[0m               \u001b[0mattrs\u001b[0m\u001b[0;34m=\u001b[0m\u001b[0;34m(\u001b[0m\u001b[0;34m\"executor_type\"\u001b[0m\u001b[0;34m,\u001b[0m \u001b[0mexecutor_type\u001b[0m\u001b[0;34m,\u001b[0m \u001b[0;34m\"config_proto\"\u001b[0m\u001b[0;34m,\u001b[0m \u001b[0mconfig\u001b[0m\u001b[0;34m)\u001b[0m\u001b[0;34m,\u001b[0m\u001b[0;34m\u001b[0m\u001b[0;34m\u001b[0m\u001b[0m\n\u001b[0;32m--> 511\u001b[0;31m               ctx=ctx)\n\u001b[0m\u001b[1;32m    512\u001b[0m         \u001b[0;32melse\u001b[0m\u001b[0;34m:\u001b[0m\u001b[0;34m\u001b[0m\u001b[0;34m\u001b[0m\u001b[0m\n\u001b[1;32m    513\u001b[0m           outputs = execute.execute_with_cancellation(\n",
      "\u001b[0;32m~/opt/anaconda3/lib/python3.7/site-packages/tensorflow_core/python/eager/execute.py\u001b[0m in \u001b[0;36mquick_execute\u001b[0;34m(op_name, num_outputs, inputs, attrs, ctx, name)\u001b[0m\n\u001b[1;32m     59\u001b[0m     tensors = pywrap_tensorflow.TFE_Py_Execute(ctx._handle, device_name,\n\u001b[1;32m     60\u001b[0m                                                \u001b[0mop_name\u001b[0m\u001b[0;34m,\u001b[0m \u001b[0minputs\u001b[0m\u001b[0;34m,\u001b[0m \u001b[0mattrs\u001b[0m\u001b[0;34m,\u001b[0m\u001b[0;34m\u001b[0m\u001b[0;34m\u001b[0m\u001b[0m\n\u001b[0;32m---> 61\u001b[0;31m                                                num_outputs)\n\u001b[0m\u001b[1;32m     62\u001b[0m   \u001b[0;32mexcept\u001b[0m \u001b[0mcore\u001b[0m\u001b[0;34m.\u001b[0m\u001b[0m_NotOkStatusException\u001b[0m \u001b[0;32mas\u001b[0m \u001b[0me\u001b[0m\u001b[0;34m:\u001b[0m\u001b[0;34m\u001b[0m\u001b[0;34m\u001b[0m\u001b[0m\n\u001b[1;32m     63\u001b[0m     \u001b[0;32mif\u001b[0m \u001b[0mname\u001b[0m \u001b[0;32mis\u001b[0m \u001b[0;32mnot\u001b[0m \u001b[0;32mNone\u001b[0m\u001b[0;34m:\u001b[0m\u001b[0;34m\u001b[0m\u001b[0;34m\u001b[0m\u001b[0m\n",
      "\u001b[0;31mKeyboardInterrupt\u001b[0m: "
     ]
    }
   ],
   "source": [
    "# 7 - Open question: find a model that is better on your dev set\n",
    "#     (e.g: use a 1D ConvNet, use a better classifier, pretrain your lookup tables ..)\n",
    "#     you will get point if the results on the test set are better: be careful of not overfitting your dev set too much..\n",
    "#     Attach the output file \"XXX_XXX_y_test_sst.txt\" to your deliverable.\n",
    "\n",
    "from tensorflow.keras.layers import Bidirectional\n",
    "bs = 200\n",
    "n_epochs = 20\n",
    "# Now I will try to use bigger embeddings and use a Bilstm \n",
    "model=Sequential()\n",
    "model.add(Embedding(vocab_size, 60))\n",
    "model.add(Bidirectional(LSTM(256, dropout=0.2, recurrent_dropout=0.2)))\n",
    "model.add(Dense(n_classes, activation='sigmoid'))\n",
    "model.compile(loss=loss_classif,\n",
    "              optimizer=optimizer,\n",
    "              metrics=metrics_classif)\n",
    "\n",
    "model.summary()\n",
    "history=model.fit(x_train_tf, y_train_tf, batch_size=bs, nb_epoch=n_epochs, validation_data=(x_dev_tf, y_dev_tf))\n",
    "\n",
    "#history.history.keys()\n",
    "plt.subplot(1,2,1)\n",
    "plt.title(\"Model Acccuracy\") #\"acc\" on colab \"accuracy\" on self..\n",
    "a,=plt.plot(np.arange(n_epochs)+1,history.history[\"acc\"],label=\"train\")\n",
    "b,=plt.plot(np.arange(n_epochs)+1,history.history[\"val_acc\"],label=\"dev\")\n",
    "plt.legend(handles=[a,b])\n",
    "plt.xlabel(\"number of epochs\")\n",
    "plt.ylabel(\"accuracy\")\n",
    "\n",
    "plt.subplot(1,2,2)\n",
    "plt.title(\"Model Loss\")\n",
    "a,=plt.plot(np.arange(n_epochs)+1,history.history[\"loss\"],label=\"train\")\n",
    "b,=plt.plot(np.arange(n_epochs)+1,history.history[\"val_loss\"],label=\"dev\")\n",
    "plt.legend(handles=[a,b])\n",
    "plt.xlabel(\"number of epochs\")\n",
    "plt.ylabel(\"loss\")\n",
    "plt.show()\n",
    "\n",
    "pred=model.predict(x_test_tf)\n",
    "pred=np.argmax(pred,axis=1) \n",
    "with open(\"logreg_bilstmpreemb_y_test_sst.text\",'w') as f:\n",
    "    for p in pred:\n",
    "        f.write(str(p)+'\\n')\n"
   ]
  }
 ],
 "metadata": {
  "accelerator": "TPU",
  "colab": {
   "collapsed_sections": [],
   "name": "nlp_project-2.ipynb",
   "provenance": [],
   "toc_visible": true
  },
  "kernelspec": {
   "display_name": "Python 3",
   "language": "python",
   "name": "python3"
  },
  "language_info": {
   "codemirror_mode": {
    "name": "ipython",
    "version": 3
   },
   "file_extension": ".py",
   "mimetype": "text/x-python",
   "name": "python",
   "nbconvert_exporter": "python",
   "pygments_lexer": "ipython3",
   "version": "3.7.4"
  },
  "varInspector": {
   "cols": {
    "lenName": 16,
    "lenType": 16,
    "lenVar": 40
   },
   "kernels_config": {
    "python": {
     "delete_cmd_postfix": "",
     "delete_cmd_prefix": "del ",
     "library": "var_list.py",
     "varRefreshCmd": "print(var_dic_list())"
    },
    "r": {
     "delete_cmd_postfix": ") ",
     "delete_cmd_prefix": "rm(",
     "library": "var_list.r",
     "varRefreshCmd": "cat(var_dic_list()) "
    }
   },
   "position": {
    "height": "144px",
    "left": "935px",
    "right": "20px",
    "top": "120px",
    "width": "350px"
   },
   "types_to_exclude": [
    "module",
    "function",
    "builtin_function_or_method",
    "instance",
    "_Feature"
   ],
   "window_display": false
  }
 },
 "nbformat": 4,
 "nbformat_minor": 1
}
